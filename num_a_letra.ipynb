{
 "cells": [
  {
   "cell_type": "code",
   "execution_count": 4,
   "metadata": {
    "ExecuteTime": {
     "end_time": "2019-11-28T05:21:37.216521Z",
     "start_time": "2019-11-28T05:21:37.212518Z"
    }
   },
   "outputs": [],
   "source": [
    "import numero_letras as nt\n",
    "import pandas as pd\n",
    "import numpy as np"
   ]
  },
  {
   "cell_type": "code",
   "execution_count": 2,
   "metadata": {
    "ExecuteTime": {
     "end_time": "2019-11-28T05:20:12.049425Z",
     "start_time": "2019-11-28T05:20:12.040442Z"
    }
   },
   "outputs": [],
   "source": [
    "df = pd.read_csv('calif.csv')"
   ]
  },
  {
   "cell_type": "code",
   "execution_count": 6,
   "metadata": {
    "ExecuteTime": {
     "end_time": "2019-11-28T05:22:05.693885Z",
     "start_time": "2019-11-28T05:22:05.640902Z"
    }
   },
   "outputs": [
    {
     "name": "stdout",
     "output_type": "stream",
     "text": [
      "0 ochenta y cuatro punto sesenta y uno\n",
      "1 cero\n",
      "2 ochenta y uno punto treinta y uno\n",
      "3 sesenta y ocho punto cero ocho\n",
      "4 ocho punto veinticinco\n",
      "5 treinta y nueve punto veintiocho\n",
      "6 veintisiete punto setenta y siete\n",
      "7 ochenta y ocho punto veintiocho\n",
      "8 quince punto ochenta y cuatro\n",
      "9 setenta y siete punto veintidos\n",
      "10 ochenta y cinco punto cuarenta y seis\n",
      "11 ciento\n",
      "12 noventa y seis punto ochenta y siete\n",
      "13 noventa y dos punto ochenta y siete\n",
      "14 veintiocho punto treinta y cuatro\n",
      "15 catorce punto cincuenta y ocho\n",
      "16 uno punto setenta y nueve\n",
      "17 noventa y nueve punto catorce\n",
      "18 doce punto sesenta y seis\n",
      "19 ciento\n",
      "20 diez punto setenta y tres\n",
      "21 once punto ochenta y tres\n",
      "22 cero\n",
      "23 treinta y dos punto cuarenta y ocho\n",
      "24 tres punto treinta y dos\n",
      "25 ochenta y siete punto veintiuno\n",
      "26 veintiocho punto cuarenta y cinco\n",
      "27 setenta y dos punto cero ocho\n",
      "28 ochenta y uno punto ochenta y cinco\n",
      "29 setenta y seis punto veinticero\n",
      "30 ochenta y tres punto once\n",
      "31 uno punto veintinueve\n",
      "32 sesenta y seis punto noventa\n",
      "33 noventa y dos punto cincuenta y nueve\n",
      "34 veinticinco punto diecisiete\n",
      "35 quince punto ochenta y uno\n",
      "36 veintisiete punto sesenta y siete\n",
      "37 diez punto cincuenta y nueve\n",
      "38 ochenta y nueve punto dieciseis\n",
      "39 treinta punto ochenta y siete\n",
      "40 sesenta y siete punto veintiuno\n",
      "41 noventa y uno punto cero dos\n",
      "42 uno punto cincuenta y cuatro\n"
     ]
    }
   ],
   "source": [
    "for i,row in df.iterrows():\n",
    "    print(i,nt.numero_a_letras(row))"
   ]
  },
  {
   "cell_type": "code",
   "execution_count": 10,
   "metadata": {
    "ExecuteTime": {
     "end_time": "2019-11-28T05:28:18.040631Z",
     "start_time": "2019-11-28T05:28:18.035632Z"
    }
   },
   "outputs": [],
   "source": [
    "new = df['num'].apply(nt.numero_a_letras)"
   ]
  },
  {
   "cell_type": "code",
   "execution_count": 12,
   "metadata": {
    "ExecuteTime": {
     "end_time": "2019-11-28T05:28:54.964221Z",
     "start_time": "2019-11-28T05:28:54.939227Z"
    }
   },
   "outputs": [
    {
     "name": "stderr",
     "output_type": "stream",
     "text": [
      "c:\\users\\wph\\anaconda3\\envs\\tf2\\lib\\site-packages\\ipykernel_launcher.py:1: FutureWarning: The signature of `Series.to_csv` was aligned to that of `DataFrame.to_csv`, and argument 'header' will change its default value from False to True: please pass an explicit value to suppress this warning.\n",
      "  \"\"\"Entry point for launching an IPython kernel.\n"
     ]
    }
   ],
   "source": [
    "new.to_csv('aletras.csv')"
   ]
  },
  {
   "cell_type": "code",
   "execution_count": null,
   "metadata": {},
   "outputs": [],
   "source": []
  }
 ],
 "metadata": {
  "kernelspec": {
   "display_name": "Python 3",
   "language": "python",
   "name": "python3"
  },
  "language_info": {
   "codemirror_mode": {
    "name": "ipython",
    "version": 3
   },
   "file_extension": ".py",
   "mimetype": "text/x-python",
   "name": "python",
   "nbconvert_exporter": "python",
   "pygments_lexer": "ipython3",
   "version": "3.6.9"
  },
  "toc": {
   "base_numbering": 1,
   "nav_menu": {},
   "number_sections": true,
   "sideBar": true,
   "skip_h1_title": false,
   "title_cell": "Table of Contents",
   "title_sidebar": "Contents",
   "toc_cell": false,
   "toc_position": {},
   "toc_section_display": true,
   "toc_window_display": false
  },
  "varInspector": {
   "cols": {
    "lenName": 16,
    "lenType": 16,
    "lenVar": 40
   },
   "kernels_config": {
    "python": {
     "delete_cmd_postfix": "",
     "delete_cmd_prefix": "del ",
     "library": "var_list.py",
     "varRefreshCmd": "print(var_dic_list())"
    },
    "r": {
     "delete_cmd_postfix": ") ",
     "delete_cmd_prefix": "rm(",
     "library": "var_list.r",
     "varRefreshCmd": "cat(var_dic_list()) "
    }
   },
   "types_to_exclude": [
    "module",
    "function",
    "builtin_function_or_method",
    "instance",
    "_Feature"
   ],
   "window_display": false
  }
 },
 "nbformat": 4,
 "nbformat_minor": 2
}
